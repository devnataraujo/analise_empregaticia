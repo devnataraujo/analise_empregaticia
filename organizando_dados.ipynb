{
 "cells": [
  {
   "cell_type": "code",
   "execution_count": 1,
   "metadata": {},
   "outputs": [],
   "source": [
    "# IMPORTAÇÕES\n",
    "import pandas as pd\n",
    "import os"
   ]
  },
  {
   "cell_type": "code",
   "execution_count": 2,
   "metadata": {},
   "outputs": [],
   "source": [
    "# DEFINIÇÕES\n",
    "df_model = pd.DataFrame(columns=['Periodo', 'Valor', 'Ano', 'Mes'])"
   ]
  },
  {
   "cell_type": "code",
   "execution_count": 3,
   "metadata": {},
   "outputs": [],
   "source": [
    "# LEITURA DE ARQUIVOS\n",
    "dir_admissoes = 'uploads/admissoes/'\n",
    "lista_arquivos = os.listdir(dir_admissoes)"
   ]
  },
  {
   "cell_type": "code",
   "execution_count": 4,
   "metadata": {},
   "outputs": [],
   "source": [
    "# FOR PARA PERCORRER TODOS OS ARQUIVOS DO DIRETÓRIO\n",
    "for arquivo in lista_arquivos:\n",
    "    if os.path.isfile(os.path.join(dir_admissoes, arquivo)):\n",
    "        dataframe = pd.DataFrame()\n",
    "        # nesta linha ele lê o arquivo csv e separa por ';'\n",
    "        dataframe = pd.read_csv(dir_admissoes + arquivo, sep=';', skiprows=1)\n",
    "        # nesta linha ele muda o eixo do dataframe e posteriormente exclui todas as linhas vazias \n",
    "        dataframe = dataframe.transpose().dropna()\n",
    "        # nesta linha, o dataframe é fatiado pelo iloc, pegando todas as colunas a partir da 3ª linha e posteriormente reseta todos os indexes\n",
    "        dataframe = dataframe.iloc[3:].reset_index()\n",
    "        # nesta linha, ele renomeia as colunas do dataframe\n",
    "        dataframe.columns = ['Periodo', 'Valor']\n",
    "        # nesta linha, ele converte a coluna 'Periodo' para o tipo string\n",
    "        dataframe['Periodo'] = dataframe['Periodo'].astype(str)\n",
    "        # nesta linha, ele divide a coluna 'Periodo' em duas colunas 'Ano' e 'Mes'\n",
    "        dataframe['Ano'] = dataframe['Periodo'].str.split('.').str[0]\n",
    "        dataframe['Mes'] = dataframe['Periodo'].str.split('.').str[1]\n",
    "        # nesta linha, ele concatena o dataframe com o df_model\n",
    "        df_model = pd.concat([df_model, dataframe], ignore_index=True)"
   ]
  },
  {
   "cell_type": "code",
   "execution_count": 5,
   "metadata": {},
   "outputs": [
    {
     "name": "stderr",
     "output_type": "stream",
     "text": [
      "C:\\Users\\migue\\AppData\\Local\\Temp\\ipykernel_9212\\3096793089.py:2: FutureWarning: Downcasting object dtype arrays on .fillna, .ffill, .bfill is deprecated and will change in a future version. Call result.infer_objects(copy=False) instead. To opt-in to the future behavior, set `pd.set_option('future.no_silent_downcasting', True)`\n",
      "  df_model = df_model.fillna(0)\n"
     ]
    }
   ],
   "source": [
    "# corrigindo os valores nulos\n",
    "df_model = df_model.fillna(0)\n",
    "df_model.to_csv('export/admissoes.csv', index=False, sep=';')"
   ]
  }
 ],
 "metadata": {
  "kernelspec": {
   "display_name": "Python 3",
   "language": "python",
   "name": "python3"
  },
  "language_info": {
   "codemirror_mode": {
    "name": "ipython",
    "version": 3
   },
   "file_extension": ".py",
   "mimetype": "text/x-python",
   "name": "python",
   "nbconvert_exporter": "python",
   "pygments_lexer": "ipython3",
   "version": "3.12.2"
  }
 },
 "nbformat": 4,
 "nbformat_minor": 2
}
